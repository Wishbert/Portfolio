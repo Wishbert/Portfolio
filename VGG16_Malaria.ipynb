{
  "nbformat": 4,
  "nbformat_minor": 0,
  "metadata": {
    "colab": {
      "name": "VGG16_Malaria.ipynb",
      "provenance": [],
      "authorship_tag": "ABX9TyPR91aR7nNueckgf0X07MEf",
      "include_colab_link": true
    },
    "kernelspec": {
      "name": "python3",
      "display_name": "Python 3"
    },
    "language_info": {
      "name": "python"
    }
  },
  "cells": [
    {
      "cell_type": "markdown",
      "metadata": {
        "id": "view-in-github",
        "colab_type": "text"
      },
      "source": [
        "<a href=\"https://colab.research.google.com/github/Wishbert/Portfolio/blob/main/VGG16_Malaria.ipynb\" target=\"_parent\"><img src=\"https://colab.research.google.com/assets/colab-badge.svg\" alt=\"Open In Colab\"/></a>"
      ]
    },
    {
      "cell_type": "code",
      "metadata": {
        "colab": {
          "base_uri": "https://localhost:8080/"
        },
        "id": "hMx4x1B7HcBU",
        "outputId": "5322b5eb-5cbd-4058-8af7-50ac0cd842b0"
      },
      "source": [
        "!curl -O ftp://lhcftp.nlm.nih.gov/Open-Access-Datasets/Malaria/cell_images.zip"
      ],
      "execution_count": 2,
      "outputs": [
        {
          "output_type": "stream",
          "text": [
            "  % Total    % Received % Xferd  Average Speed   Time    Time     Time  Current\n",
            "                                 Dload  Upload   Total   Spent    Left  Speed\n",
            "100  337M  100  337M    0     0  77.0M      0  0:00:04  0:00:04 --:--:-- 79.9M\n"
          ],
          "name": "stdout"
        }
      ]
    },
    {
      "cell_type": "code",
      "metadata": {
        "id": "Mz0b-5MpH_Hq"
      },
      "source": [
        "!unzip -q cell_images.zip"
      ],
      "execution_count": 3,
      "outputs": []
    },
    {
      "cell_type": "code",
      "metadata": {
        "id": "o9yzJ10-IoDu"
      },
      "source": [
        "import os"
      ],
      "execution_count": 4,
      "outputs": []
    },
    {
      "cell_type": "code",
      "metadata": {
        "colab": {
          "base_uri": "https://localhost:8080/"
        },
        "id": "qkj9yCxXIq90",
        "outputId": "cdb70f49-2614-4204-8812-6c4c48aa3768"
      },
      "source": [
        "num_skipped = 0\n",
        "for folder_name in (\"Parasitized\", \"Uninfected\"):\n",
        "    folder_path = os.path.join(\"cell_images\", folder_name)\n",
        "    for fname in os.listdir(folder_path):\n",
        "        fpath = os.path.join(folder_path, fname)\n",
        "        try:\n",
        "            fobj = open(fpath, \"rb\")\n",
        "            png_true = 'png' in fname\n",
        "        finally:\n",
        "            fobj.close()\n",
        "\n",
        "        if not png_true:\n",
        "            num_skipped += 1\n",
        "            # Delete corrupted image\n",
        "            os.remove(fpath)\n",
        "print(\"Deleted %d images\" % num_skipped)\n"
      ],
      "execution_count": 5,
      "outputs": [
        {
          "output_type": "stream",
          "text": [
            "Deleted 2 images\n"
          ],
          "name": "stdout"
        }
      ]
    }
  ]
}