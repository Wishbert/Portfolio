{
  "nbformat": 4,
  "nbformat_minor": 0,
  "metadata": {
    "colab": {
      "name": "Shortest path (Djikstra)",
      "provenance": [],
      "authorship_tag": "ABX9TyMJLnzDWjr/M8l5Wbr4tmmM",
      "include_colab_link": true
    },
    "kernelspec": {
      "name": "python3",
      "display_name": "Python 3"
    },
    "language_info": {
      "name": "python"
    }
  },
  "cells": [
    {
      "cell_type": "markdown",
      "metadata": {
        "id": "view-in-github",
        "colab_type": "text"
      },
      "source": [
        "<a href=\"https://colab.research.google.com/github/Wishbert/Portfolio/blob/main/Shortest_path_(Djikstra).ipynb\" target=\"_parent\"><img src=\"https://colab.research.google.com/assets/colab-badge.svg\" alt=\"Open In Colab\"/></a>"
      ]
    },
    {
      "cell_type": "code",
      "metadata": {
        "id": "3s9rEfa1d_Wj"
      },
      "source": [
        "import numpy as np"
      ],
      "execution_count": 1,
      "outputs": []
    },
    {
      "cell_type": "code",
      "metadata": {
        "id": "TmllIT1wfAK6"
      },
      "source": [
        "class Djikstra:\n",
        "    \n",
        "    def __init__(self,dist_matrix,points = None):\n",
        "        \n",
        "        self.dist_matrix = np.array(dist_matrix)\n",
        "        \n",
        "        if points == None:\n",
        "            self.points = [f'p{i}' for i in range(1,len(dist_matrix)+1)]\n",
        "        else:\n",
        "            self.points = points\n",
        "        print(self.points)\n",
        "        \n",
        "    def from_to(self,start,end):\n",
        "        \n",
        "        if start and end in self.points:\n",
        "            self.start = start\n",
        "            self.end = end\n",
        "        else:\n",
        "            print('Not valid points')\n",
        "    \n",
        "    def __algorithm__(self):\n",
        "        \n",
        "        length = len(self.points)\n",
        "        comptable = {'vertices':self.points}\n",
        "        finished_vertices = [self.points.index(self.start)]\n",
        "        comptable[self.start] = []\n",
        "        keys = [k for k in comptable.keys()]\n",
        "        \n",
        "        for i in range(length):\n",
        "            if i in finished_vertices:\n",
        "                comptable[self.start] += [0]\n",
        "            else:\n",
        "                comptable[self.start] += [np.inf]\n",
        "                \n",
        "                \n",
        "        for rows in range(1,length):\n",
        "            \n",
        "            last_key = keys[-1]\n",
        "            index = self.points.index(last_key)\n",
        "            value = comptable[last_key][index]\n",
        "            compare_lst = comptable[last_key]\n",
        "            updated_lst = [0 for _ in range(length)]\n",
        "            for i in range(length):\n",
        "                \n",
        "                dist = self.dist_matrix[index][i]+value\n",
        "                if dist < compare_lst[i]:\n",
        "                    updated_lst[i] = dist\n",
        "                else:\n",
        "                    updated_lst[i] = compare_lst[i]\n",
        "                    \n",
        "                if i in finished_vertices:\n",
        "                    updated_lst[i] = np.inf\n",
        "            min_dist = min(updated_lst)\n",
        "            index = updated_lst.index(min_dist)\n",
        "            comptable[self.points[index]] = updated_lst\n",
        "            finished_vertices += [index]\n",
        "            keys = [k for k in comptable.keys()]\n",
        "            \n",
        "        return comptable,keys\n",
        "    \n",
        "    def display(self):\n",
        "        table,keys = self.__algorithm__()\n",
        "        \n",
        "        for key in keys:\n",
        "            print(key,table[key])\n",
        "        print('\\n')\n",
        "            \n",
        "        path = self.path_is()\n",
        "        path_way = ''\n",
        "        for point in path:\n",
        "            path_way += point\n",
        "            path_way += '-->'\n",
        "        print(path_way[:-3])\n",
        "            \n",
        "    def shortest_path_is(self):\n",
        "        \n",
        "        table,_ = self.__algorithm__()\n",
        "        return min(table[self.end])\n",
        "    \n",
        "    def path_is(self):\n",
        "        \n",
        "        table,keys = self.__algorithm__()\n",
        "        \n",
        "        key_index = keys.index(self.end)\n",
        "        possible_points = keys[1:key_index][::-1]\n",
        "        path_keys = [self.end]\n",
        "        value = min(table[self.end])\n",
        "        value_index = table[self.end].index(value)\n",
        "        \n",
        "        for key in possible_points:\n",
        "            if value != table[key][value_index]:\n",
        "                path_keys.append(key)\n",
        "                value = min(table[key])\n",
        "                value_index = table[key].index(value)\n",
        "        \n",
        "        return path_keys[::-1]"
      ],
      "execution_count": 2,
      "outputs": []
    },
    {
      "cell_type": "markdown",
      "metadata": {
        "id": "pyKM_HuTfGQC"
      },
      "source": [
        "# the np.inf in the distance matrix means those distance are not reachable for certain vertices"
      ]
    },
    {
      "cell_type": "code",
      "metadata": {
        "id": "yloh3mIbfILG"
      },
      "source": [
        "dist =[\n",
        "    [0,6,np.inf,np.inf,5,np.inf,3],\n",
        "    [6,0,7,3,np.inf,12,np.inf],\n",
        "    [np.inf,7,0,3,np.inf,np.inf,np.inf],\n",
        "    [np.inf,3,3,0,6,np.inf,np.inf],\n",
        "    [5,np.inf,np.inf,6,0,3,np.inf],\n",
        "    [np.inf,12,np.inf,np.inf,3,0,4],\n",
        "    [3,np.inf,np.inf,np.inf,np.inf,4,0]\n",
        "]"
      ],
      "execution_count": 4,
      "outputs": []
    },
    {
      "cell_type": "code",
      "metadata": {
        "colab": {
          "base_uri": "https://localhost:8080/"
        },
        "id": "FjBN5QF4fkCb",
        "outputId": "11a095ac-f6a2-4390-c5d9-496fc2863b05"
      },
      "source": [
        "init = Djikstra(dist,['A','B','C','D','E','F','G'])"
      ],
      "execution_count": 5,
      "outputs": [
        {
          "output_type": "stream",
          "text": [
            "['A', 'B', 'C', 'D', 'E', 'F', 'G']\n"
          ],
          "name": "stdout"
        }
      ]
    },
    {
      "cell_type": "code",
      "metadata": {
        "id": "8YKvoGI5fks5"
      },
      "source": [
        "init.from_to('G','C')"
      ],
      "execution_count": 6,
      "outputs": []
    },
    {
      "cell_type": "code",
      "metadata": {
        "id": "27_wqhZrfuP2"
      },
      "source": [
        "value = init.shortest_path_is()"
      ],
      "execution_count": 7,
      "outputs": []
    },
    {
      "cell_type": "code",
      "metadata": {
        "colab": {
          "base_uri": "https://localhost:8080/"
        },
        "id": "UxDPHJ-4fxRr",
        "outputId": "c36a1dff-70ae-4c22-a454-96a49b025cfd"
      },
      "source": [
        "print(value)"
      ],
      "execution_count": 8,
      "outputs": [
        {
          "output_type": "stream",
          "text": [
            "15.0\n"
          ],
          "name": "stdout"
        }
      ]
    },
    {
      "cell_type": "code",
      "metadata": {
        "colab": {
          "base_uri": "https://localhost:8080/"
        },
        "id": "CWh95P3HfzG_",
        "outputId": "6713d834-f927-470e-82ac-e1ae90bd4e1f"
      },
      "source": [
        "init.display()"
      ],
      "execution_count": 9,
      "outputs": [
        {
          "output_type": "stream",
          "text": [
            "vertices ['A', 'B', 'C', 'D', 'E', 'F', 'G']\n",
            "G [inf, inf, inf, inf, inf, inf, 0]\n",
            "A [3.0, inf, inf, inf, inf, 4.0, inf]\n",
            "F [inf, 9.0, inf, inf, 8.0, 4.0, inf]\n",
            "E [inf, 9.0, inf, inf, 7.0, inf, inf]\n",
            "B [inf, 9.0, inf, 13.0, inf, inf, inf]\n",
            "D [inf, inf, 16.0, 12.0, inf, inf, inf]\n",
            "C [inf, inf, 15.0, inf, inf, inf, inf]\n",
            "\n",
            "\n",
            "G-->A-->B-->D-->C\n"
          ],
          "name": "stdout"
        }
      ]
    },
    {
      "cell_type": "code",
      "metadata": {
        "colab": {
          "base_uri": "https://localhost:8080/"
        },
        "id": "DBEK6uuaf2EG",
        "outputId": "f2a96c45-dd01-496a-ede9-a9c7d697dd0d"
      },
      "source": [
        "init.path_is()"
      ],
      "execution_count": 10,
      "outputs": [
        {
          "output_type": "execute_result",
          "data": {
            "text/plain": [
              "['G', 'A', 'B', 'D', 'C']"
            ]
          },
          "metadata": {
            "tags": []
          },
          "execution_count": 10
        }
      ]
    },
    {
      "cell_type": "markdown",
      "metadata": {
        "id": "jDNGlYnuf-fV"
      },
      "source": [
        "The distance matrix from below was optained from the link below:\n",
        "https://people.sc.fsu.edu/~jburkardt/datasets/cities/"
      ]
    },
    {
      "cell_type": "code",
      "metadata": {
        "id": "BMDLEH1vf5tE"
      },
      "source": [
        "sp11_dist = [\n",
        "    [0, 8, 50, 31, 12, 48, 36,  2,  5, 39, 10],\n",
        "    [8,  0, 38,  9, 33, 37, 22,  6,  4, 14, 32],\n",
        "    [50, 38,  0, 11, 55,  1, 23, 46, 41, 17, 52 ],\n",
        "    [31,  9, 11,  0, 44, 13, 16, 19, 25, 18, 42],\n",
        "    [12, 33, 55, 44,  0, 54, 53, 30, 28, 45,  7],\n",
        "    [48, 37,  1, 13, 54,  0, 26, 47, 40, 24, 51],\n",
        "    [36, 22, 23, 16, 53, 26,  0, 29, 35, 34, 49],\n",
        "    [2,  6, 46, 19, 30, 47, 29,  0,  3, 27, 15],\n",
        "    [5,  4, 41, 25, 28, 40, 35,  3,  0, 20, 21],\n",
        "    [39, 14, 17, 18, 45, 24, 34, 27, 20,  0, 43],\n",
        "    [10, 32, 52, 42,  7, 51, 49, 15, 21, 43,  0],\n",
        "]"
      ],
      "execution_count": 11,
      "outputs": []
    },
    {
      "cell_type": "code",
      "metadata": {
        "id": "hiUTQou6gJVA"
      },
      "source": [
        "points = [\n",
        "    'Ape','Big','Cow','Dog','Egg','Fox','Gas','Hit','Ick','Jab','Kim'\n",
        "]\n"
      ],
      "execution_count": 12,
      "outputs": []
    },
    {
      "cell_type": "code",
      "metadata": {
        "colab": {
          "base_uri": "https://localhost:8080/"
        },
        "id": "iZDDG4pygLgm",
        "outputId": "2196d193-5b7b-41ba-a973-a20b406a37ce"
      },
      "source": [
        "init3 = Djikstra(sp11_dist,points)"
      ],
      "execution_count": 13,
      "outputs": [
        {
          "output_type": "stream",
          "text": [
            "['Ape', 'Big', 'Cow', 'Dog', 'Egg', 'Fox', 'Gas', 'Hit', 'Ick', 'Jab', 'Kim']\n"
          ],
          "name": "stdout"
        }
      ]
    },
    {
      "cell_type": "code",
      "metadata": {
        "id": "lXUztjVCgSYg"
      },
      "source": [
        "init3.from_to('Big','Kim')"
      ],
      "execution_count": 14,
      "outputs": []
    },
    {
      "cell_type": "code",
      "metadata": {
        "colab": {
          "base_uri": "https://localhost:8080/"
        },
        "id": "rYpr24TBgVRM",
        "outputId": "13ab34a0-3313-400e-8fde-8e3afc6828de"
      },
      "source": [
        "init3.display()"
      ],
      "execution_count": 15,
      "outputs": [
        {
          "output_type": "stream",
          "text": [
            "vertices ['Ape', 'Big', 'Cow', 'Dog', 'Egg', 'Fox', 'Gas', 'Hit', 'Ick', 'Jab', 'Kim']\n",
            "Big [inf, 0, inf, inf, inf, inf, inf, inf, inf, inf, inf]\n",
            "Ick [8, inf, 38, 9, 33, 37, 22, 6, 4, 14, 32]\n",
            "Hit [8, inf, 38, 9, 32, 37, 22, 6, inf, 14, 25]\n",
            "Ape [8, inf, 38, 9, 32, 37, 22, inf, inf, 14, 21]\n",
            "Dog [inf, inf, 38, 9, 20, 37, 22, inf, inf, 14, 18]\n",
            "Jab [inf, inf, 20, inf, 20, 22, 22, inf, inf, 14, 18]\n",
            "Kim [inf, inf, 20, inf, 20, 22, 22, inf, inf, inf, 18]\n",
            "Cow [inf, inf, 20, inf, 20, 22, 22, inf, inf, inf, inf]\n",
            "Egg [inf, inf, inf, inf, 20, 21, 22, inf, inf, inf, inf]\n",
            "Fox [inf, inf, inf, inf, inf, 21, 22, inf, inf, inf, inf]\n",
            "Gas [inf, inf, inf, inf, inf, inf, 22, inf, inf, inf, inf]\n",
            "\n",
            "\n",
            "Big-->Ape-->Kim\n"
          ],
          "name": "stdout"
        }
      ]
    },
    {
      "cell_type": "code",
      "metadata": {
        "id": "Jr-fEeFSgXxg"
      },
      "source": [
        ""
      ],
      "execution_count": null,
      "outputs": []
    }
  ]
}