{
  "nbformat": 4,
  "nbformat_minor": 0,
  "metadata": {
    "colab": {
      "name": "Solving Route Planning .ipynb",
      "provenance": [],
      "mount_file_id": "19GBnS5Yqp7oimoHGQMz04okjyZlQCq6k",
      "authorship_tag": "ABX9TyN4bHMKlGImERPaG0LuPD+s",
      "include_colab_link": true
    },
    "kernelspec": {
      "name": "python3",
      "display_name": "Python 3"
    },
    "language_info": {
      "name": "python"
    }
  },
  "cells": [
    {
      "cell_type": "markdown",
      "metadata": {
        "id": "view-in-github",
        "colab_type": "text"
      },
      "source": [
        "<a href=\"https://colab.research.google.com/github/Wishbert/Portfolio/blob/main/Solving_Route_Planning_.ipynb\" target=\"_parent\"><img src=\"https://colab.research.google.com/assets/colab-badge.svg\" alt=\"Open In Colab\"/></a>"
      ]
    },
    {
      "cell_type": "markdown",
      "metadata": {
        "id": "HSu3bzcIXq81"
      },
      "source": [
        "# Shortest Route Problem"
      ]
    },
    {
      "cell_type": "code",
      "metadata": {
        "id": "enIAHY_lXSas"
      },
      "source": [
        "import numpy as np"
      ],
      "execution_count": 8,
      "outputs": []
    },
    {
      "cell_type": "code",
      "metadata": {
        "id": "vcoDPnfLQfMT"
      },
      "source": [
        "dist_matrix = np.array([\n",
        "[0 , 8 ,50 ,31 ,12, 48, 36  ,2,  5 ,39, 10],\n",
        "[8  ,0 ,38  ,9 ,33 ,37 ,22  ,6 , 4 ,14 ,32],\n",
        "[50 ,38 , 0 ,11 ,55 , 1 ,23 ,46 ,41 ,17 ,52],\n",
        "[31  ,9 ,11 , 0 ,44 ,13 ,16 ,19 ,25 ,18 ,42],\n",
        "[12 ,33 ,55 ,44  ,0 ,54 ,53 ,30 ,28 ,45  ,7],\n",
        "[48 ,37 , 1 ,13 ,54  ,0 ,26 ,47 ,40 ,24 ,51],\n",
        "[36 ,22 ,23 ,16 ,53 ,26  ,0 ,29 ,35 ,34 ,49],\n",
        "[2  ,6 ,46 ,19 ,30 ,47 ,29 , 0  ,3 ,27 ,15],\n",
        "[5  ,4 ,41 ,25 ,28 ,40 ,35,  3  ,0 ,20 ,21],\n",
        "[39 ,14 ,17 ,18 ,45 ,24 ,34, 27 ,20 , 0 ,43],\n",
        "[10 ,32 ,52 ,42  ,7 ,51, 49 ,15 ,21 ,43  ,0]\n",
        "])"
      ],
      "execution_count": 9,
      "outputs": []
    },
    {
      "cell_type": "code",
      "metadata": {
        "colab": {
          "base_uri": "https://localhost:8080/"
        },
        "id": "XwhWDsctW_6o",
        "outputId": "75a84440-6ca1-46a0-9894-1985cb590a65"
      },
      "source": [
        "dist_matrix.shape"
      ],
      "execution_count": 10,
      "outputs": [
        {
          "output_type": "execute_result",
          "data": {
            "text/plain": [
              "(11, 11)"
            ]
          },
          "metadata": {
            "tags": []
          },
          "execution_count": 10
        }
      ]
    },
    {
      "cell_type": "code",
      "metadata": {
        "id": "GNoLr4DXXE8d"
      },
      "source": [
        ""
      ],
      "execution_count": null,
      "outputs": []
    }
  ]
}